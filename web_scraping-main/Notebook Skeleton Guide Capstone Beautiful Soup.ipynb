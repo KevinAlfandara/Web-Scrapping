{
 "cells": [
  {
   "cell_type": "markdown",
   "metadata": {},
   "source": []
  },
  {
   "cell_type": "markdown",
   "metadata": {},
   "source": [
    "# Capstone Webscrapping using BeautifulSoup\n",
    "\n",
    "This notebook contains guidances & tasks on the data processing for the application\n",
    "\n",
    "## background\n",
    "\n",
    "Pada proyek ini kami mencoba untuk mengambil data penjualan ethereum (mata uang kripto) dari situs web Coin Gecko. CoinGecko adalah situs web yang menyediakan analisis fundamental pasar mata uang digital. Saya akan mencoba mengambil data pada situs ini hanya untuk tujuan proyek batu penjuru.\n",
    "\n",
    "Banyak dari Anda mungkin bertanya mengapa kami perlu menghapus data ini dari situs sementara itu sudah memiliki visualisasi yang cukup baik. Katakanlah kita memiliki tugas untuk membuat perkiraan tingkat inflasi Indonesia. Untuk melakukan itu kita perlu memiliki data, dan memo\n",
    "\n",
    "## Requesting the Data and Creating a BeautifulSoup\n",
    "\n",
    "Let's begin with requesting the web from the site with `get` method.\n",
    "\n",
    "## Requirements\n",
    "- Beatifulsoup\n",
    "- pandas\n",
    "- matplotlib"
   ]
  },
  {
   "cell_type": "code",
   "execution_count": 192,
   "metadata": {
    "ExecuteTime": {
     "end_time": "2020-01-13T05:12:23.275508Z",
     "start_time": "2020-01-13T05:12:20.009898Z"
    }
   },
   "outputs": [],
   "source": [
    "import requests\n",
    "\n",
    "url_get = requests.get('https://www.coingecko.com/en/coins/ethereum/historical_data/usd?start_date=2020-01-01&end_date=2021-06-30#panel')"
   ]
  },
  {
   "cell_type": "markdown",
   "metadata": {},
   "source": [
    "To visualize what exactly you get from the `request.get`, we can use .content so ee what we exactly get, in here i slice it so it won't make our screen full of the html we get from the page. You can delete the slicing if you want to see what we fully get."
   ]
  },
  {
   "cell_type": "code",
   "execution_count": 193,
   "metadata": {
    "ExecuteTime": {
     "end_time": "2020-01-13T05:12:23.290648Z",
     "start_time": "2020-01-13T05:12:23.277650Z"
    }
   },
   "outputs": [
    {
     "data": {
      "text/plain": [
       "b'!DOCTYPE html>\\n<html lang=\"en\">\\n<head>\\n<script src=\"/cdn-cgi/apps/head/gYtXOyllgyP3-Z2iKTP8rRWGBm4.js\"></script><script async defer src=\"https://www.googleoptimize.com/optimize.js?id=GTM-W3CD992\"></script>\\n<meta charset=\"utf-8\">\\n<meta http-equiv=\"X-UA-Compatible\" content=\"IE=edge\">\\n<meta name=\"viewport\" content=\"width=device-width, initial-scale=1.0\">\\n<link rel=\"shortcut icon\" href=\"/favicon.ico\">\\n<link type=\"application/opensearchdescription+xml\" rel=\"search\" href=\"/OpensearchDescription.xml\" '"
      ]
     },
     "execution_count": 193,
     "metadata": {},
     "output_type": "execute_result"
    }
   ],
   "source": [
    "url_get.content[1:500]"
   ]
  },
  {
   "cell_type": "markdown",
   "metadata": {},
   "source": [
    "As we can see we get a very unstructured and complex html, which actually contains the codes needed to show the webpages on your web browser. But we as human still confused what and where we can use that piece of code, so here where we use the beautifulsoup. Beautiful soup class will result a beautifulsoup object. Beautiful Soup transforms a complex HTML document into a complex tree of Python objects. \n",
    "\n",
    "Let's make Beautiful soup object and feel free to explore the object here."
   ]
  },
  {
   "cell_type": "code",
   "execution_count": 194,
   "metadata": {
    "ExecuteTime": {
     "end_time": "2020-01-13T05:12:23.808122Z",
     "start_time": "2020-01-13T05:12:23.292610Z"
    }
   },
   "outputs": [],
   "source": [
    "from bs4 import BeautifulSoup \n",
    "\n",
    "soup = BeautifulSoup(url_get.content,\"html.parser\")"
   ]
  },
  {
   "cell_type": "markdown",
   "metadata": {},
   "source": [
    "## Finding the right key to scrap the data & Extracting the right information"
   ]
  },
  {
   "cell_type": "markdown",
   "metadata": {},
   "source": [
    "Karena kita perlu menemukan nilainya secara langsung, kita perlu menemukan kepala grup data yang langsung mengarah ke data tanpa mendapatkan nama kolom, yang dalam hal ini adalah tbody"
   ]
  },
  {
   "cell_type": "code",
   "execution_count": 195,
   "metadata": {
    "ExecuteTime": {
     "end_time": "2020-01-13T05:12:23.878904Z",
     "start_time": "2020-01-13T05:12:23.854974Z"
    }
   },
   "outputs": [
    {
     "name": "stdout",
     "output_type": "stream",
     "text": [
      "tbody>\n",
      " <tr>\n",
      "  <th class=\"font-semibold text-center\" scope=\"row\">\n",
      "   2022-10-02\n",
      "  </th>\n",
      "  <td class=\"text-center\">\n",
      "   $158,410,068,981\n",
      "  </td>\n",
      "  <td class=\"text-center\">\n",
      "   $5,052,407,841\n",
      "  </td>\n",
      "  <td class=\"text-center\">\n",
      "   $1,311.26\n",
      "  </td>\n",
      "  <td class=\"text-center\">\n",
      "   N/A\n",
      "  </td>\n",
      " </tr>\n",
      " <tr>\n",
      "  <th class=\"font-semibold text-center\" scope=\"row\">\n",
      "   2022-10-01\n",
      "  </th>\n",
      "  <td class=\"text-center\">\n",
      "   $160,462,955,554\n",
      "  </td>\n",
      "  <td class=\"text-center\">\n",
      "   $11,849,125,784\n",
      "  </td>\n",
      "  <td class=\"tex\n"
     ]
    }
   ],
   "source": [
    "table = soup.find('tbody') #mengambil semua bagian termasuk isi yang akan di ambil\n",
    "print(table.prettify()[1:500]) #memunculkan semua dalam bentuk tabel, 500 kata"
   ]
  },
  {
   "cell_type": "code",
   "execution_count": 196,
   "metadata": {},
   "outputs": [
    {
     "data": {
      "text/plain": [
       "[<th class=\"font-semibold text-center\" scope=\"row\">2022-10-02</th>,\n",
       " <th class=\"font-semibold text-center\" scope=\"row\">2022-10-01</th>,\n",
       " <th class=\"font-semibold text-center\" scope=\"row\">2022-09-30</th>,\n",
       " <th class=\"font-semibold text-center\" scope=\"row\">2022-09-29</th>,\n",
       " <th class=\"font-semibold text-center\" scope=\"row\">2022-09-28</th>]"
      ]
     },
     "execution_count": 196,
     "metadata": {},
     "output_type": "execute_result"
    }
   ],
   "source": [
    "table.find_all('th', attrs={'class':'font-semibold text-center'})[:5]"
   ]
  },
  {
   "cell_type": "code",
   "execution_count": 197,
   "metadata": {},
   "outputs": [
    {
     "data": {
      "text/plain": [
       "'2022-10-02'"
      ]
     },
     "execution_count": 197,
     "metadata": {},
     "output_type": "execute_result"
    }
   ],
   "source": [
    "table.find_all('th', attrs={'class':'font-semibold text-center'})[0].text"
   ]
  },
  {
   "cell_type": "markdown",
   "metadata": {},
   "source": [
    "Finding row length."
   ]
  },
  {
   "cell_type": "code",
   "execution_count": 215,
   "metadata": {},
   "outputs": [
    {
     "data": {
      "text/plain": [
       "31"
      ]
     },
     "execution_count": 215,
     "metadata": {},
     "output_type": "execute_result"
    }
   ],
   "source": [
    "row = table.find_all('th', attrs={'class':'font-semibold text-center'}) \n",
    "row_length = len(row)\n",
    "row_length"
   ]
  },
  {
   "cell_type": "code",
   "execution_count": 216,
   "metadata": {},
   "outputs": [
    {
     "data": {
      "text/plain": [
       "124"
      ]
     },
     "execution_count": 216,
     "metadata": {},
     "output_type": "execute_result"
    }
   ],
   "source": [
    "row = table.find_all('td', attrs={'class':'text-center'}) \n",
    "row_length2 = len(row)\n",
    "row_length2"
   ]
  },
  {
   "cell_type": "markdown",
   "metadata": {},
   "source": [
    "Sekarang, karena data dibagi menjadi dua bagian, kita akan melakukan loop pertama untuk tanggal itu sendiri. untuk bagian kedua, kita akan melakukan perulangan untuk kolom data lainnya. karena jumlah sel bergerak secara horizontal, setiap kolom akan mendapatkan data pada langkah ke-4. oleh karena itu, kami akan menambahkan awal berdasarkan jumlah python (indeks berbasis nol) menjadi 0,1,2,3 untuk kapitalisasi pasar, volume, buka, dan tutup, serta langkah untuk setiap loop adalah 4."
   ]
  },
  {
   "cell_type": "code",
   "execution_count": 189,
   "metadata": {
    "ExecuteTime": {
     "end_time": "2020-01-13T05:12:24.008256Z",
     "start_time": "2020-01-13T05:12:23.980358Z"
    }
   },
   "outputs": [],
   "source": [
    "date = []\n",
    "market_cap = []\n",
    "volume = []\n",
    "open = []\n",
    "close = []\n",
    "\n",
    "for i in range(0, row_length):\n",
    "    #getdate\n",
    "    Date = table.find_all('th', attrs={'class':'font-semibold text-center'})[i].text\n",
    "    date.append(Date)  #to remove excess white space\n",
    "    \n",
    "    #get marketcap\n",
    "for i in range(0, row_length2,4):\n",
    "    Market_Cap = table.find_all('td', attrs={'class':'text-center'})[i].text\n",
    "    Market_Cap = Market_Cap.strip() #to remove excess white space\n",
    "    market_cap.append(Market_Cap)\n",
    "    \n",
    "    #get volume\n",
    "for i in range(1, row_length2,4):\n",
    "    volumee = table.find_all('td', attrs={'class':'text-center'})[i].text\n",
    "    volumee = volumee.strip() #to remove excess white space\n",
    "    volume.append(volumee)\n",
    "    \n",
    "     #get open\n",
    "for i in range(2, row_length2,4):\n",
    "    openn = table.find_all('td', attrs={'class':'text-center'})[i].text\n",
    "    openn = openn.strip() #to remove excess white space\n",
    "    open.append(openn)\n",
    "    \n",
    "     #get close\n",
    "for i in range(3, row_length2,4):   \n",
    "    closee = table.find_all('td', attrs={'class':'text-center'})[i].text\n",
    "    closee = closee.strip() #to remove excess white space\n",
    "    close.append(closee)\n",
    "        "
   ]
  },
  {
   "cell_type": "markdown",
   "metadata": {},
   "source": [
    "## Creating data frame & Data wrangling"
   ]
  },
  {
   "cell_type": "markdown",
   "metadata": {},
   "source": [
    "kita sekarang akan menetapkan setiap hasil perulangan ke dalam df dan memberi nama untuk setiap perulangan yang kita miliki."
   ]
  },
  {
   "cell_type": "code",
   "execution_count": 220,
   "metadata": {
    "ExecuteTime": {
     "end_time": "2020-01-13T05:12:41.517372Z",
     "start_time": "2020-01-13T05:12:29.130015Z"
    }
   },
   "outputs": [
    {
     "data": {
      "text/html": [
       "<div>\n",
       "<style scoped>\n",
       "    .dataframe tbody tr th:only-of-type {\n",
       "        vertical-align: middle;\n",
       "    }\n",
       "\n",
       "    .dataframe tbody tr th {\n",
       "        vertical-align: top;\n",
       "    }\n",
       "\n",
       "    .dataframe thead th {\n",
       "        text-align: right;\n",
       "    }\n",
       "</style>\n",
       "<table border=\"1\" class=\"dataframe\">\n",
       "  <thead>\n",
       "    <tr style=\"text-align: right;\">\n",
       "      <th></th>\n",
       "      <th>Date</th>\n",
       "      <th>Market_cap</th>\n",
       "      <th>Volume</th>\n",
       "      <th>Open</th>\n",
       "      <th>Close</th>\n",
       "    </tr>\n",
       "  </thead>\n",
       "  <tbody>\n",
       "    <tr>\n",
       "      <th>0</th>\n",
       "      <td>2022-10-02</td>\n",
       "      <td>$158,410,068,981</td>\n",
       "      <td>$5,052,407,841</td>\n",
       "      <td>$1,311.26</td>\n",
       "      <td>N/A</td>\n",
       "    </tr>\n",
       "    <tr>\n",
       "      <th>1</th>\n",
       "      <td>2022-10-01</td>\n",
       "      <td>$160,462,955,554</td>\n",
       "      <td>$11,849,125,784</td>\n",
       "      <td>$1,329.15</td>\n",
       "      <td>$1,311.26</td>\n",
       "    </tr>\n",
       "    <tr>\n",
       "      <th>2</th>\n",
       "      <td>2022-09-30</td>\n",
       "      <td>$161,267,455,734</td>\n",
       "      <td>$11,834,328,252</td>\n",
       "      <td>$1,335.74</td>\n",
       "      <td>$1,329.15</td>\n",
       "    </tr>\n",
       "    <tr>\n",
       "      <th>3</th>\n",
       "      <td>2022-09-29</td>\n",
       "      <td>$161,716,193,676</td>\n",
       "      <td>$16,571,161,476</td>\n",
       "      <td>$1,340.02</td>\n",
       "      <td>$1,335.74</td>\n",
       "    </tr>\n",
       "    <tr>\n",
       "      <th>4</th>\n",
       "      <td>2022-09-28</td>\n",
       "      <td>$160,800,122,125</td>\n",
       "      <td>$16,685,874,856</td>\n",
       "      <td>$1,331.15</td>\n",
       "      <td>$1,340.02</td>\n",
       "    </tr>\n",
       "  </tbody>\n",
       "</table>\n",
       "</div>"
      ],
      "text/plain": [
       "         Date        Market_cap           Volume       Open      Close\n",
       "0  2022-10-02  $158,410,068,981   $5,052,407,841  $1,311.26        N/A\n",
       "1  2022-10-01  $160,462,955,554  $11,849,125,784  $1,329.15  $1,311.26\n",
       "2  2022-09-30  $161,267,455,734  $11,834,328,252  $1,335.74  $1,329.15\n",
       "3  2022-09-29  $161,716,193,676  $16,571,161,476  $1,340.02  $1,335.74\n",
       "4  2022-09-28  $160,800,122,125  $16,685,874,856  $1,331.15  $1,340.02"
      ]
     },
     "execution_count": 220,
     "metadata": {},
     "output_type": "execute_result"
    }
   ],
   "source": [
    "import pandas as pd\n",
    "\n",
    "df = pd.DataFrame({\n",
    "    'Date' : date,\n",
    "    'Market_cap' : market_cap,\n",
    "    'Volume' : volume,\n",
    "    'Open' : open,\n",
    "    'Close' : close\n",
    "}, columns = ['Date', 'Market_cap', 'Volume', 'Open', 'Close'])\n",
    "df.head()"
   ]
  },
  {
   "cell_type": "code",
   "execution_count": 201,
   "metadata": {},
   "outputs": [
    {
     "data": {
      "text/plain": [
       "Date          object\n",
       "Market_cap    object\n",
       "Volume        object\n",
       "Open          object\n",
       "Close         object\n",
       "dtype: object"
      ]
     },
     "execution_count": 201,
     "metadata": {},
     "output_type": "execute_result"
    }
   ],
   "source": [
    "df.dtypes"
   ]
  },
  {
   "cell_type": "markdown",
   "metadata": {},
   "source": [
    "Karena tugas meminta kami untuk hanya menunjukkan pergerakan volume Ethereum, kami sekarang hanya akan mengambil 2 kolom data, yaitu Tanggal dan Volume"
   ]
  },
  {
   "cell_type": "code",
   "execution_count": 202,
   "metadata": {},
   "outputs": [
    {
     "data": {
      "text/html": [
       "<div>\n",
       "<style scoped>\n",
       "    .dataframe tbody tr th:only-of-type {\n",
       "        vertical-align: middle;\n",
       "    }\n",
       "\n",
       "    .dataframe tbody tr th {\n",
       "        vertical-align: top;\n",
       "    }\n",
       "\n",
       "    .dataframe thead th {\n",
       "        text-align: right;\n",
       "    }\n",
       "</style>\n",
       "<table border=\"1\" class=\"dataframe\">\n",
       "  <thead>\n",
       "    <tr style=\"text-align: right;\">\n",
       "      <th></th>\n",
       "      <th>Date</th>\n",
       "      <th>Volume</th>\n",
       "    </tr>\n",
       "  </thead>\n",
       "  <tbody>\n",
       "    <tr>\n",
       "      <th>0</th>\n",
       "      <td>2022-10-02</td>\n",
       "      <td>$5,052,407,841</td>\n",
       "    </tr>\n",
       "    <tr>\n",
       "      <th>1</th>\n",
       "      <td>2022-10-01</td>\n",
       "      <td>$11,849,125,784</td>\n",
       "    </tr>\n",
       "    <tr>\n",
       "      <th>2</th>\n",
       "      <td>2022-09-30</td>\n",
       "      <td>$11,834,328,252</td>\n",
       "    </tr>\n",
       "    <tr>\n",
       "      <th>3</th>\n",
       "      <td>2022-09-29</td>\n",
       "      <td>$16,571,161,476</td>\n",
       "    </tr>\n",
       "    <tr>\n",
       "      <th>4</th>\n",
       "      <td>2022-09-28</td>\n",
       "      <td>$16,685,874,856</td>\n",
       "    </tr>\n",
       "  </tbody>\n",
       "</table>\n",
       "</div>"
      ],
      "text/plain": [
       "         Date           Volume\n",
       "0  2022-10-02   $5,052,407,841\n",
       "1  2022-10-01  $11,849,125,784\n",
       "2  2022-09-30  $11,834,328,252\n",
       "3  2022-09-29  $16,571,161,476\n",
       "4  2022-09-28  $16,685,874,856"
      ]
     },
     "execution_count": 202,
     "metadata": {},
     "output_type": "execute_result"
    }
   ],
   "source": [
    "df_dv = df[['Date', 'Volume']]\n",
    "df_dv.head()"
   ]
  },
  {
   "cell_type": "markdown",
   "metadata": {},
   "source": [
    "Sekarang, kita akan menghapus tanda $ dan , dengan memasukkan sebuah fungsi"
   ]
  },
  {
   "cell_type": "code",
   "execution_count": 206,
   "metadata": {},
   "outputs": [],
   "source": [
    "def delete_dollar(x):\n",
    "    for i in x:\n",
    "        xx = i.split('$')\n",
    "        return int(xx[1].replace(',',''))"
   ]
  },
  {
   "cell_type": "code",
   "execution_count": 207,
   "metadata": {},
   "outputs": [
    {
     "name": "stderr",
     "output_type": "stream",
     "text": [
      "C:\\Users\\Kevin Alfandara(PC)\\AppData\\Local\\Temp\\ipykernel_1432\\443765963.py:1: SettingWithCopyWarning: \n",
      "A value is trying to be set on a copy of a slice from a DataFrame.\n",
      "Try using .loc[row_indexer,col_indexer] = value instead\n",
      "\n",
      "See the caveats in the documentation: https://pandas.pydata.org/pandas-docs/stable/user_guide/indexing.html#returning-a-view-versus-a-copy\n",
      "  df_dv['Volume'] = df_dv[['Volume']].apply(delete_dollar,axis=1)\n"
     ]
    }
   ],
   "source": [
    "df_dv['Volume'] = df_dv[['Volume']].apply(delete_dollar,axis=1)"
   ]
  },
  {
   "cell_type": "markdown",
   "metadata": {},
   "source": [
    "Sebelum masuk ke visualisasi, kita perlu mengimpor matplotlib terlebih dahulu (harus) dan mengatur gaya (opsional)"
   ]
  },
  {
   "cell_type": "code",
   "execution_count": 208,
   "metadata": {},
   "outputs": [],
   "source": [
    "import matplotlib.pyplot as plt\n",
    "plt.style.use('seaborn')"
   ]
  },
  {
   "cell_type": "code",
   "execution_count": 209,
   "metadata": {},
   "outputs": [],
   "source": [
    "df_dv = df_dv[::-1].set_index('Date')"
   ]
  },
  {
   "cell_type": "code",
   "execution_count": 210,
   "metadata": {},
   "outputs": [
    {
     "data": {
      "text/plain": [
       "Volume    int64\n",
       "dtype: object"
      ]
     },
     "execution_count": 210,
     "metadata": {},
     "output_type": "execute_result"
    }
   ],
   "source": [
    "df_dv.dtypes"
   ]
  },
  {
   "cell_type": "markdown",
   "metadata": {},
   "source": [
    "Dan inisialisasi visualisasi menggunakan .plot"
   ]
  },
  {
   "cell_type": "code",
   "execution_count": 211,
   "metadata": {},
   "outputs": [
    {
     "data": {
      "text/plain": [
       "<AxesSubplot:xlabel='Date'>"
      ]
     },
     "execution_count": 211,
     "metadata": {},
     "output_type": "execute_result"
    },
    {
     "data": {
      "image/png": "[encoded data removed]",
      "text/plain": [
       "<Figure size 576x396 with 1 Axes>"
      ]
     },
     "metadata": {},
     "output_type": "display_data"
    }
   ],
   "source": [
    "df_dv.plot()"
   ]
  },
  {
   "cell_type": "markdown",
   "metadata": {},
   "source": [
    "kita dapat meningkatkan visualisasi dengan memberinya judul serta memberi nama sumbu y sebagai Volume Ethereum Traded"
   ]
  },
  {
   "cell_type": "code",
   "execution_count": 221,
   "metadata": {},
   "outputs": [
    {
     "data": {
      "text/plain": [
       "<AxesSubplot:title={'center':'        Volume Ethereum diperdagangkan 2 September 2022 - 2 October 2022'}, xlabel='Date', ylabel='Volume Ethereum Traded'>"
      ]
     },
     "execution_count": 221,
     "metadata": {},
     "output_type": "execute_result"
    },
    {
     "data": {
      "image/png": "[encoded data removed]",
      "text/plain": [
       "<Figure size 576x396 with 1 Axes>"
      ]
     },
     "metadata": {},
     "output_type": "display_data"
    }
   ],
   "source": [
    "df_dv.plot(kind='line',\n",
    "        ylabel='Volume Ethereum Traded',\n",
    "        xlabel='Date',\n",
    "        title='\\\n",
    "        Volume Ethereum diperdagangkan 2 September 2022 - 2 October 2022',\n",
    "        grid=False,\n",
    "        rot=0)"
   ]
  },
  {
   "cell_type": "markdown",
   "metadata": {},
   "source": [
    "### Implementing your webscrapping to the flask dashboard\n",
    "\n",
    "- Copy paste all of your web scrapping process to the desired position on the `app.py`\n",
    "- Changing the title of the dasboard at `index.html`"
   ]
  },
  {
   "cell_type": "markdown",
   "metadata": {},
   "source": [
    "## Finishing This Notebook with Your Analysis and Conclusion\n",
    "\n",
    "First you can do start with making the data visualisation. "
   ]
  },
  {
   "cell_type": "markdown",
   "metadata": {
    "ExecuteTime": {
     "end_time": "2020-01-13T05:20:56.208237Z",
     "start_time": "2020-01-13T05:20:56.076043Z"
    }
   },
   "source": [
    "Pertama yang bisa Anda lakukan mulai dengan membuat visualisasi data.\n",
    "\n",
    "Pergerakan Volume Ethereum antara 2 September 2022 hingga 2 Oktober 2022 (Perhatikan bahwa tanggal berbeda dari tugas yang diberikan yang harus dimulai pada 1 Januari 2020 hingga 30 Juni 2021 adalah karena tanggal yang diberikan dalam tugas tidak dapat diakses."
   ]
  },
  {
   "cell_type": "markdown",
   "metadata": {},
   "source": [
    "### Extra Challange\n",
    "\n",
    "This will be not included to the scoring. \n",
    "\n",
    "- You can create additional analysis from the data.\n",
    "- Implement it to the dashboard with at `app.py` dan `index.html`."
   ]
  }
 ],
 "metadata": {
  "kernelspec": {
   "display_name": "theia_da",
   "language": "python",
   "name": "theia_da"
  },
  "language_info": {
   "codemirror_mode": {
    "name": "ipython",
    "version": 3
   },
   "file_extension": ".py",
   "mimetype": "text/x-python",
   "name": "python",
   "nbconvert_exporter": "python",
   "pygments_lexer": "ipython3",
   "version": "3.9.13"
  }
 },
 "nbformat": 4,
 "nbformat_minor": 2
}
